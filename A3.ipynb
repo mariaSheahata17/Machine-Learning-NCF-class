{
 "cells": [
  {
   "cell_type": "markdown",
   "id": "adverse-outdoors",
   "metadata": {},
   "source": []
  },
  {
   "cell_type": "code",
   "execution_count": 19,
   "id": "charitable-enemy",
   "metadata": {},
   "outputs": [
    {
     "name": "stdout",
     "output_type": "stream",
     "text": [
      "[ 0.          0.52631579  1.05263158  1.57894737  2.10526316  2.63157895\n",
      "  3.15789474  3.68421053  4.21052632  4.73684211  5.26315789  5.78947368\n",
      "  6.31578947  6.84210526  7.36842105  7.89473684  8.42105263  8.94736842\n",
      "  9.47368421 10.        ]\n"
     ]
    },
    {
     "data": {
      "image/png": "[encoded data removed]",
      "text/plain": [
       "<Figure size 432x288 with 1 Axes>"
      ]
     },
     "metadata": {
      "needs_background": "light"
     },
     "output_type": "display_data"
    }
   ],
   "source": [
    "import numpy as np\n",
    "import matplotlib.pyplot as plt\n",
    "from random import Random\n",
    "\n",
    "\n",
    "# 100 linearly spaced numbers\n",
    "a = np.linspace(0,10,20)\n",
    "print(a)\n",
    "\n",
    "# the function\n",
    "f = a**3 - 5*a**2 + a + 2\n",
    "\n",
    "# setting the axes at the centre\n",
    "fig = plt.figure()\n",
    "ax = fig.add_subplot(1, 1, 1)\n",
    "ax.spines['left'].set_position('center')\n",
    "ax.spines['bottom'].set_position('zero')\n",
    "ax.spines['right'].set_color('none')\n",
    "ax.spines['top'].set_color('none')\n",
    "ax.xaxis.set_ticks_position('bottom')\n",
    "ax.yaxis.set_ticks_position('left')\n",
    "\n",
    "# plot the function\n",
    "plt.plot(a,f, 'r')\n",
    "\n",
    "# show the plot\n",
    "plt.show()"
   ]
  },
  {
   "cell_type": "code",
   "execution_count": null,
   "id": "cooked-supervisor",
   "metadata": {},
   "outputs": [],
   "source": []
  },
  {
   "cell_type": "code",
   "execution_count": 29,
   "id": "current-parker",
   "metadata": {},
   "outputs": [
    {
     "name": "stdout",
     "output_type": "stream",
     "text": [
      "10\n"
     ]
    }
   ],
   "source": [
    "\n",
    "ten_simulated_tr_sets =[]\n",
    "simulated = []\n",
    "for i in range(10):\n",
    "    # Generate 15 random values of x uniformly distributed in the (0, 10)\n",
    "    data_set = np.random.uniform(0,10,15)\n",
    "    x = np.array(data_set)\n",
    "    #print(\"x values\",x)\n",
    "    #print(\"\")\n",
    "\n",
    "\n",
    "    # the function\n",
    "    f = (x**3) - 5*(x**2) + x + 2\n",
    "    #print(\"f values\",f)\n",
    "    #print(\"\")\n",
    "\n",
    "    # Generate random 15 samples from the normal distribution\n",
    "    mu, sigma = 0, 2.0 # mean and standard deviation\n",
    "    error = np.random.normal(mu, sigma, 15)\n",
    "    e = np.array(error)\n",
    "    #print(\"e values\",e)\n",
    "    #print(\"\")\n",
    "\n",
    "    # add f + e to get the response\n",
    "    response = f + e\n",
    "    simulated.append(response)\n",
    "    #print(\"response values\",response)\n",
    "    \n",
    "    ten_simulated_tr_sets.append(simulated)\n",
    "    simulated = []\n",
    "print(len(ten_simulated_tr_sets))\n",
    "#print(ten_simulated_tr_sets)"
   ]
  },
  {
   "cell_type": "markdown",
   "id": "senior-nebraska",
   "metadata": {},
   "source": [
    "##\n",
    "## Fit five models to each of the 10 training sets"
   ]
  },
  {
   "cell_type": "code",
   "execution_count": null,
   "id": "protective-retailer",
   "metadata": {},
   "outputs": [],
   "source": []
  }
 ],
 "metadata": {
  "kernelspec": {
   "display_name": "Python 3",
   "language": "python",
   "name": "python3"
  },
  "language_info": {
   "codemirror_mode": {
    "name": "ipython",
    "version": 3
   },
   "file_extension": ".py",
   "mimetype": "text/x-python",
   "name": "python",
   "nbconvert_exporter": "python",
   "pygments_lexer": "ipython3",
   "version": "3.9.1"
  }
 },
 "nbformat": 4,
 "nbformat_minor": 5
}
