{
 "cells": [
  {
   "cell_type": "markdown",
   "id": "purple-survival",
   "metadata": {},
   "source": [
    "source: https://nextjournal.com/gkoehler/pytorch-mnist\n"
   ]
  },
  {
   "cell_type": "code",
   "execution_count": 1,
   "id": "magnetic-luxury",
   "metadata": {},
   "outputs": [],
   "source": [
    "import torch\n",
    "import torchvision"
   ]
  },
  {
   "cell_type": "code",
   "execution_count": 2,
   "id": "opposite-delaware",
   "metadata": {},
   "outputs": [
    {
     "data": {
      "text/plain": [
       "<torch._C.Generator at 0x131ab1ab0>"
      ]
     },
     "execution_count": 2,
     "metadata": {},
     "output_type": "execute_result"
    }
   ],
   "source": [
    "n_epochs = 3\n",
    "batch_size_train = 64\n",
    "batch_size_test = 1000\n",
    "learning_rate = 0.01\n",
    "momentum = 0.5\n",
    "log_interval = 10\n",
    "\n",
    "random_seed = 1\n",
    "torch.backends.cudnn.enabled = False\n",
    "torch.manual_seed(random_seed)"
   ]
  },
  {
   "cell_type": "code",
   "execution_count": 9,
   "id": "alert-current",
   "metadata": {},
   "outputs": [],
   "source": [
    "import torch\n",
    "import pandas as pd\n",
    "\n",
    "train = pd.read_csv('train.csv')\n",
    "train_tensor = torch.tensor(train.values)\n",
    "\n",
    "test = pd.read_csv('test.csv')\n",
    "test_tensor = torch.tensor(train.values)"
   ]
  },
  {
   "cell_type": "code",
   "execution_count": 11,
   "id": "sealed-railway",
   "metadata": {},
   "outputs": [],
   "source": [
    "train_dataset = dsets.MNIST(root='./data', train=True, transform=transforms.ToTensor(), download=False)\n",
    "test_dataset = dsets.MNIST(root='./data', train=False, transform=transforms.ToTensor())"
   ]
  },
  {
   "cell_type": "code",
   "execution_count": 14,
   "id": "black-apparel",
   "metadata": {},
   "outputs": [
    {
     "name": "stdout",
     "output_type": "stream",
     "text": [
      "Downloading http://yann.lecun.com/exdb/mnist/train-images-idx3-ubyte.gz to train_dataset/MNIST/raw/train-images-idx3-ubyte.gz\n"
     ]
    },
    {
     "name": "stderr",
     "output_type": "stream",
     "text": [
      "100.1%"
     ]
    },
    {
     "name": "stdout",
     "output_type": "stream",
     "text": [
      "Extracting train_dataset/MNIST/raw/train-images-idx3-ubyte.gz to train_dataset/MNIST/raw\n",
      "Downloading http://yann.lecun.com/exdb/mnist/train-labels-idx1-ubyte.gz to train_dataset/MNIST/raw/train-labels-idx1-ubyte.gz\n"
     ]
    },
    {
     "name": "stderr",
     "output_type": "stream",
     "text": [
      "0.5%5%"
     ]
    },
    {
     "name": "stdout",
     "output_type": "stream",
     "text": [
      "Extracting train_dataset/MNIST/raw/train-labels-idx1-ubyte.gz to train_dataset/MNIST/raw\n",
      "Downloading http://yann.lecun.com/exdb/mnist/t10k-images-idx3-ubyte.gz to train_dataset/MNIST/raw/t10k-images-idx3-ubyte.gz\n"
     ]
    },
    {
     "name": "stderr",
     "output_type": "stream",
     "text": [
      "100.4%"
     ]
    },
    {
     "name": "stdout",
     "output_type": "stream",
     "text": [
      "Extracting train_dataset/MNIST/raw/t10k-images-idx3-ubyte.gz to train_dataset/MNIST/raw\n",
      "Downloading http://yann.lecun.com/exdb/mnist/t10k-labels-idx1-ubyte.gz to train_dataset/MNIST/raw/t10k-labels-idx1-ubyte.gz\n"
     ]
    },
    {
     "name": "stderr",
     "output_type": "stream",
     "text": [
      "180.4%"
     ]
    },
    {
     "name": "stdout",
     "output_type": "stream",
     "text": [
      "Extracting train_dataset/MNIST/raw/t10k-labels-idx1-ubyte.gz to train_dataset/MNIST/raw\n",
      "Processing...\n",
      "Done!\n",
      "Downloading http://yann.lecun.com/exdb/mnist/train-images-idx3-ubyte.gz to test_dataset/MNIST/raw/train-images-idx3-ubyte.gz\n"
     ]
    },
    {
     "name": "stderr",
     "output_type": "stream",
     "text": [
      "100.1%"
     ]
    },
    {
     "name": "stdout",
     "output_type": "stream",
     "text": [
      "Extracting test_dataset/MNIST/raw/train-images-idx3-ubyte.gz to test_dataset/MNIST/raw\n",
      "Downloading http://yann.lecun.com/exdb/mnist/train-labels-idx1-ubyte.gz to test_dataset/MNIST/raw/train-labels-idx1-ubyte.gz\n"
     ]
    },
    {
     "name": "stderr",
     "output_type": "stream",
     "text": [
      "0.5%5%"
     ]
    },
    {
     "name": "stdout",
     "output_type": "stream",
     "text": [
      "Extracting test_dataset/MNIST/raw/train-labels-idx1-ubyte.gz to test_dataset/MNIST/raw\n",
      "Downloading http://yann.lecun.com/exdb/mnist/t10k-images-idx3-ubyte.gz to test_dataset/MNIST/raw/t10k-images-idx3-ubyte.gz\n"
     ]
    },
    {
     "name": "stderr",
     "output_type": "stream",
     "text": [
      "180.4%"
     ]
    },
    {
     "name": "stdout",
     "output_type": "stream",
     "text": [
      "Extracting test_dataset/MNIST/raw/t10k-images-idx3-ubyte.gz to test_dataset/MNIST/raw\n",
      "Downloading http://yann.lecun.com/exdb/mnist/t10k-labels-idx1-ubyte.gz to test_dataset/MNIST/raw/t10k-labels-idx1-ubyte.gz\n",
      "Extracting test_dataset/MNIST/raw/t10k-labels-idx1-ubyte.gz to test_dataset/MNIST/raw\n",
      "Processing...\n",
      "Done!\n"
     ]
    }
   ],
   "source": [
    "train_loader = torch.utils.data.DataLoader(\n",
    "  torchvision.datasets.MNIST('train_dataset', train=True, download=True,\n",
    "                             transform=torchvision.transforms.Compose([\n",
    "                               torchvision.transforms.ToTensor(),\n",
    "                               torchvision.transforms.Normalize(\n",
    "                                 (0.1307,), (0.3081,))\n",
    "                             ])),\n",
    "  batch_size=batch_size_train, shuffle=True)\n",
    "\n",
    "test_loader = torch.utils.data.DataLoader(\n",
    "  torchvision.datasets.MNIST('test_dataset', train=False, download=True,\n",
    "                             transform=torchvision.transforms.Compose([\n",
    "                               torchvision.transforms.ToTensor(),\n",
    "                               torchvision.transforms.Normalize(\n",
    "                                 (0.1307,), (0.3081,))\n",
    "                             ])),\n",
    "  batch_size=batch_size_test, shuffle=True)"
   ]
  },
  {
   "cell_type": "code",
   "execution_count": 15,
   "id": "rising-mongolia",
   "metadata": {},
   "outputs": [],
   "source": [
    "examples = enumerate(test_loader)\n",
    "batch_idx, (example_data, example_targets) = next(examples)"
   ]
  },
  {
   "cell_type": "code",
   "execution_count": 16,
   "id": "buried-tulsa",
   "metadata": {},
   "outputs": [
    {
     "data": {
      "text/plain": [
       "torch.Size([1000, 1, 28, 28])"
      ]
     },
     "execution_count": 16,
     "metadata": {},
     "output_type": "execute_result"
    }
   ],
   "source": [
    "example_data.shape"
   ]
  },
  {
   "cell_type": "code",
   "execution_count": 17,
   "id": "controlled-increase",
   "metadata": {},
   "outputs": [
    {
     "data": {
      "image/png": "[encoded data removed]",
      "text/plain": [
       "<Figure size 432x288 with 6 Axes>"
      ]
     },
     "execution_count": 17,
     "metadata": {},
     "output_type": "execute_result"
    },
    {
     "data": {
      "image/png": "[encoded data removed]",
      "text/plain": [
       "<Figure size 432x288 with 6 Axes>"
      ]
     },
     "metadata": {},
     "output_type": "display_data"
    }
   ],
   "source": [
    "import matplotlib.pyplot as plt\n",
    "\n",
    "fig = plt.figure()\n",
    "for i in range(6):\n",
    "  plt.subplot(2,3,i+1)\n",
    "  plt.tight_layout()\n",
    "  plt.imshow(example_data[i][0], cmap='gray', interpolation='none')\n",
    "  plt.title(\"Ground Truth: {}\".format(example_targets[i]))\n",
    "  plt.xticks([])\n",
    "  plt.yticks([])\n",
    "fig"
   ]
  },
  {
   "cell_type": "code",
   "execution_count": 18,
   "id": "based-brick",
   "metadata": {},
   "outputs": [],
   "source": [
    "import torch.nn as nn\n",
    "import torch.nn.functional as F\n",
    "import torch.optim as optim"
   ]
  },
  {
   "cell_type": "code",
   "execution_count": 19,
   "id": "popular-communication",
   "metadata": {},
   "outputs": [],
   "source": [
    "class Net(nn.Module):\n",
    "    def __init__(self):\n",
    "        super(Net, self).__init__()\n",
    "        self.conv1 = nn.Conv2d(1, 10, kernel_size=5)\n",
    "        self.conv2 = nn.Conv2d(10, 20, kernel_size=5)\n",
    "        self.conv2_drop = nn.Dropout2d()\n",
    "        self.fc1 = nn.Linear(320, 50)\n",
    "        self.fc2 = nn.Linear(50, 10)\n",
    "\n",
    "    def forward(self, x):\n",
    "        x = F.relu(F.max_pool2d(self.conv1(x), 2))\n",
    "        x = F.relu(F.max_pool2d(self.conv2_drop(self.conv2(x)), 2))\n",
    "        x = x.view(-1, 320)\n",
    "        x = F.relu(self.fc1(x))\n",
    "        x = F.dropout(x, training=self.training)\n",
    "        x = self.fc2(x)\n",
    "        return F.log_softmax(x)"
   ]
  },
  {
   "cell_type": "code",
   "execution_count": 20,
   "id": "linear-mystery",
   "metadata": {},
   "outputs": [],
   "source": [
    "network = Net()\n",
    "optimizer = optim.SGD(network.parameters(), lr=learning_rate,\n",
    "                      momentum=momentum)"
   ]
  },
  {
   "cell_type": "markdown",
   "id": "allied-citizen",
   "metadata": {},
   "source": [
    "### Train the model"
   ]
  },
  {
   "cell_type": "code",
   "execution_count": 21,
   "id": "environmental-retreat",
   "metadata": {},
   "outputs": [],
   "source": [
    "train_losses = []\n",
    "train_counter = []\n",
    "test_losses = []\n",
    "test_counter = [i*len(train_loader.dataset) for i in range(n_epochs + 1)]"
   ]
  },
  {
   "cell_type": "code",
   "execution_count": 31,
   "id": "eleven-month",
   "metadata": {},
   "outputs": [],
   "source": [
    "def train(epoch):\n",
    "  network.train()\n",
    "  for batch_idx, (data, target) in enumerate(train_loader):\n",
    "    optimizer.zero_grad()\n",
    "    output = network(data)\n",
    "    loss = F.nll_loss(output, target)\n",
    "    loss.backward()\n",
    "    optimizer.step()\n",
    "    if batch_idx % log_interval == 0:\n",
    "      print('Train Epoch: {} [{}/{} ({:.0f}%)]\\tLoss: {:.6f}'.format(\n",
    "        epoch, batch_idx * len(data), len(train_loader.dataset),\n",
    "        100. * batch_idx / len(train_loader), loss.item()))\n",
    "      train_losses.append(loss.item())\n",
    "      train_counter.append(\n",
    "        (batch_idx*64) + ((epoch-1)*len(train_loader.dataset)))\n",
    "      torch.save(network.state_dict(), 'machine_learning')\n",
    "      torch.save(optimizer.state_dict(), 'machine_learning')"
   ]
  },
  {
   "cell_type": "code",
   "execution_count": 32,
   "id": "completed-montreal",
   "metadata": {},
   "outputs": [],
   "source": [
    "def test():\n",
    "  network.eval()\n",
    "  test_loss = 0\n",
    "  correct = 0\n",
    "  with torch.no_grad():\n",
    "    for data, target in test_loader:\n",
    "      output = network(data)\n",
    "      test_loss += F.nll_loss(output, target, size_average=False).item()\n",
    "      pred = output.data.max(1, keepdim=True)[1]\n",
    "      correct += pred.eq(target.data.view_as(pred)).sum()\n",
    "  test_loss /= len(test_loader.dataset)\n",
    "  test_losses.append(test_loss)\n",
    "  print('\\nTest set: Avg. loss: {:.4f}, Accuracy: {}/{} ({:.0f}%)\\n'.format(\n",
    "    test_loss, correct, len(test_loader.dataset),\n",
    "    100. * correct / len(test_loader.dataset)))"
   ]
  },
  {
   "cell_type": "code",
   "execution_count": 33,
   "id": "radical-dodge",
   "metadata": {},
   "outputs": [
    {
     "name": "stderr",
     "output_type": "stream",
     "text": [
      "<ipython-input-19-6c2218f37724>:17: UserWarning: Implicit dimension choice for log_softmax has been deprecated. Change the call to include dim=X as an argument.\n",
      "  return F.log_softmax(x)\n"
     ]
    },
    {
     "name": "stdout",
     "output_type": "stream",
     "text": [
      "\n",
      "Test set: Avg. loss: 2.3043, Accuracy: 621/10000 (6%)\n",
      "\n",
      "Train Epoch: 1 [0/60000 (0%)]\tLoss: 2.317675\n",
      "Train Epoch: 1 [640/60000 (1%)]\tLoss: 2.292942\n",
      "Train Epoch: 1 [1280/60000 (2%)]\tLoss: 2.290761\n",
      "Train Epoch: 1 [1920/60000 (3%)]\tLoss: 2.259439\n",
      "Train Epoch: 1 [2560/60000 (4%)]\tLoss: 2.253492\n",
      "Train Epoch: 1 [3200/60000 (5%)]\tLoss: 2.279322\n",
      "Train Epoch: 1 [3840/60000 (6%)]\tLoss: 2.223916\n",
      "Train Epoch: 1 [4480/60000 (7%)]\tLoss: 2.169872\n",
      "Train Epoch: 1 [5120/60000 (9%)]\tLoss: 2.118658\n",
      "Train Epoch: 1 [5760/60000 (10%)]\tLoss: 2.142122\n",
      "Train Epoch: 1 [6400/60000 (11%)]\tLoss: 1.919464\n",
      "Train Epoch: 1 [7040/60000 (12%)]\tLoss: 1.871888\n",
      "Train Epoch: 1 [7680/60000 (13%)]\tLoss: 1.711830\n",
      "Train Epoch: 1 [8320/60000 (14%)]\tLoss: 1.446815\n",
      "Train Epoch: 1 [8960/60000 (15%)]\tLoss: 1.454614\n",
      "Train Epoch: 1 [9600/60000 (16%)]\tLoss: 1.286209\n",
      "Train Epoch: 1 [10240/60000 (17%)]\tLoss: 1.218618\n",
      "Train Epoch: 1 [10880/60000 (18%)]\tLoss: 1.414330\n",
      "Train Epoch: 1 [11520/60000 (19%)]\tLoss: 1.250145\n",
      "Train Epoch: 1 [12160/60000 (20%)]\tLoss: 1.173884\n",
      "Train Epoch: 1 [12800/60000 (21%)]\tLoss: 1.217088\n",
      "Train Epoch: 1 [13440/60000 (22%)]\tLoss: 1.020746\n",
      "Train Epoch: 1 [14080/60000 (23%)]\tLoss: 1.014045\n",
      "Train Epoch: 1 [14720/60000 (25%)]\tLoss: 0.961137\n",
      "Train Epoch: 1 [15360/60000 (26%)]\tLoss: 1.072715\n",
      "Train Epoch: 1 [16000/60000 (27%)]\tLoss: 0.782246\n",
      "Train Epoch: 1 [16640/60000 (28%)]\tLoss: 1.228454\n",
      "Train Epoch: 1 [17280/60000 (29%)]\tLoss: 0.800865\n",
      "Train Epoch: 1 [17920/60000 (30%)]\tLoss: 0.850036\n",
      "Train Epoch: 1 [18560/60000 (31%)]\tLoss: 0.624722\n",
      "Train Epoch: 1 [19200/60000 (32%)]\tLoss: 0.861387\n",
      "Train Epoch: 1 [19840/60000 (33%)]\tLoss: 0.723457\n",
      "Train Epoch: 1 [20480/60000 (34%)]\tLoss: 0.889284\n",
      "Train Epoch: 1 [21120/60000 (35%)]\tLoss: 0.800620\n",
      "Train Epoch: 1 [21760/60000 (36%)]\tLoss: 0.767898\n",
      "Train Epoch: 1 [22400/60000 (37%)]\tLoss: 0.721840\n",
      "Train Epoch: 1 [23040/60000 (38%)]\tLoss: 0.731114\n",
      "Train Epoch: 1 [23680/60000 (39%)]\tLoss: 0.728536\n",
      "Train Epoch: 1 [24320/60000 (41%)]\tLoss: 0.539777\n",
      "Train Epoch: 1 [24960/60000 (42%)]\tLoss: 0.526394\n",
      "Train Epoch: 1 [25600/60000 (43%)]\tLoss: 0.637189\n",
      "Train Epoch: 1 [26240/60000 (44%)]\tLoss: 0.406684\n",
      "Train Epoch: 1 [26880/60000 (45%)]\tLoss: 0.956154\n",
      "Train Epoch: 1 [27520/60000 (46%)]\tLoss: 0.810507\n",
      "Train Epoch: 1 [28160/60000 (47%)]\tLoss: 0.803187\n",
      "Train Epoch: 1 [28800/60000 (48%)]\tLoss: 0.545525\n",
      "Train Epoch: 1 [29440/60000 (49%)]\tLoss: 0.563740\n",
      "Train Epoch: 1 [30080/60000 (50%)]\tLoss: 0.769123\n",
      "Train Epoch: 1 [30720/60000 (51%)]\tLoss: 0.600951\n",
      "Train Epoch: 1 [31360/60000 (52%)]\tLoss: 0.652909\n",
      "Train Epoch: 1 [32000/60000 (53%)]\tLoss: 0.773755\n",
      "Train Epoch: 1 [32640/60000 (54%)]\tLoss: 0.604990\n",
      "Train Epoch: 1 [33280/60000 (55%)]\tLoss: 0.507030\n",
      "Train Epoch: 1 [33920/60000 (57%)]\tLoss: 0.806588\n",
      "Train Epoch: 1 [34560/60000 (58%)]\tLoss: 0.419964\n",
      "Train Epoch: 1 [35200/60000 (59%)]\tLoss: 0.464496\n",
      "Train Epoch: 1 [35840/60000 (60%)]\tLoss: 0.524311\n",
      "Train Epoch: 1 [36480/60000 (61%)]\tLoss: 0.596557\n",
      "Train Epoch: 1 [37120/60000 (62%)]\tLoss: 0.422689\n",
      "Train Epoch: 1 [37760/60000 (63%)]\tLoss: 0.754810\n",
      "Train Epoch: 1 [38400/60000 (64%)]\tLoss: 0.441452\n",
      "Train Epoch: 1 [39040/60000 (65%)]\tLoss: 0.364211\n",
      "Train Epoch: 1 [39680/60000 (66%)]\tLoss: 0.474737\n",
      "Train Epoch: 1 [40320/60000 (67%)]\tLoss: 0.498179\n",
      "Train Epoch: 1 [40960/60000 (68%)]\tLoss: 0.569584\n",
      "Train Epoch: 1 [41600/60000 (69%)]\tLoss: 0.519830\n",
      "Train Epoch: 1 [42240/60000 (70%)]\tLoss: 0.418647\n",
      "Train Epoch: 1 [42880/60000 (71%)]\tLoss: 0.623945\n",
      "Train Epoch: 1 [43520/60000 (72%)]\tLoss: 0.463712\n",
      "Train Epoch: 1 [44160/60000 (74%)]\tLoss: 0.404180\n",
      "Train Epoch: 1 [44800/60000 (75%)]\tLoss: 0.660572\n",
      "Train Epoch: 1 [45440/60000 (76%)]\tLoss: 0.482354\n",
      "Train Epoch: 1 [46080/60000 (77%)]\tLoss: 0.678460\n",
      "Train Epoch: 1 [46720/60000 (78%)]\tLoss: 0.384374\n",
      "Train Epoch: 1 [47360/60000 (79%)]\tLoss: 0.537220\n",
      "Train Epoch: 1 [48000/60000 (80%)]\tLoss: 0.326020\n",
      "Train Epoch: 1 [48640/60000 (81%)]\tLoss: 0.393744\n",
      "Train Epoch: 1 [49280/60000 (82%)]\tLoss: 0.443692\n",
      "Train Epoch: 1 [49920/60000 (83%)]\tLoss: 0.388801\n",
      "Train Epoch: 1 [50560/60000 (84%)]\tLoss: 0.475794\n",
      "Train Epoch: 1 [51200/60000 (85%)]\tLoss: 0.569320\n",
      "Train Epoch: 1 [51840/60000 (86%)]\tLoss: 0.564547\n",
      "Train Epoch: 1 [52480/60000 (87%)]\tLoss: 0.422465\n",
      "Train Epoch: 1 [53120/60000 (88%)]\tLoss: 0.335817\n",
      "Train Epoch: 1 [53760/60000 (90%)]\tLoss: 0.443866\n",
      "Train Epoch: 1 [54400/60000 (91%)]\tLoss: 0.656052\n",
      "Train Epoch: 1 [55040/60000 (92%)]\tLoss: 0.481366\n",
      "Train Epoch: 1 [55680/60000 (93%)]\tLoss: 0.583628\n",
      "Train Epoch: 1 [56320/60000 (94%)]\tLoss: 0.309814\n",
      "Train Epoch: 1 [56960/60000 (95%)]\tLoss: 0.300633\n",
      "Train Epoch: 1 [57600/60000 (96%)]\tLoss: 0.250555\n",
      "Train Epoch: 1 [58240/60000 (97%)]\tLoss: 0.441745\n",
      "Train Epoch: 1 [58880/60000 (98%)]\tLoss: 0.311740\n",
      "Train Epoch: 1 [59520/60000 (99%)]\tLoss: 0.400152\n",
      "\n",
      "Test set: Avg. loss: 0.1828, Accuracy: 9472/10000 (95%)\n",
      "\n",
      "Train Epoch: 2 [0/60000 (0%)]\tLoss: 0.317809\n",
      "Train Epoch: 2 [640/60000 (1%)]\tLoss: 0.505769\n",
      "Train Epoch: 2 [1280/60000 (2%)]\tLoss: 0.253074\n",
      "Train Epoch: 2 [1920/60000 (3%)]\tLoss: 0.576086\n",
      "Train Epoch: 2 [2560/60000 (4%)]\tLoss: 0.407909\n",
      "Train Epoch: 2 [3200/60000 (5%)]\tLoss: 0.388371\n",
      "Train Epoch: 2 [3840/60000 (6%)]\tLoss: 0.444871\n",
      "Train Epoch: 2 [4480/60000 (7%)]\tLoss: 0.481036\n",
      "Train Epoch: 2 [5120/60000 (9%)]\tLoss: 0.664689\n",
      "Train Epoch: 2 [5760/60000 (10%)]\tLoss: 0.513494\n",
      "Train Epoch: 2 [6400/60000 (11%)]\tLoss: 0.387492\n",
      "Train Epoch: 2 [7040/60000 (12%)]\tLoss: 0.383501\n",
      "Train Epoch: 2 [7680/60000 (13%)]\tLoss: 0.368029\n",
      "Train Epoch: 2 [8320/60000 (14%)]\tLoss: 0.364928\n",
      "Train Epoch: 2 [8960/60000 (15%)]\tLoss: 0.390581\n",
      "Train Epoch: 2 [9600/60000 (16%)]\tLoss: 0.544243\n",
      "Train Epoch: 2 [10240/60000 (17%)]\tLoss: 0.429944\n",
      "Train Epoch: 2 [10880/60000 (18%)]\tLoss: 0.497881\n",
      "Train Epoch: 2 [11520/60000 (19%)]\tLoss: 0.323768\n",
      "Train Epoch: 2 [12160/60000 (20%)]\tLoss: 0.525384\n",
      "Train Epoch: 2 [12800/60000 (21%)]\tLoss: 0.419240\n",
      "Train Epoch: 2 [13440/60000 (22%)]\tLoss: 0.451873\n",
      "Train Epoch: 2 [14080/60000 (23%)]\tLoss: 0.435995\n",
      "Train Epoch: 2 [14720/60000 (25%)]\tLoss: 0.392928\n",
      "Train Epoch: 2 [15360/60000 (26%)]\tLoss: 0.284282\n",
      "Train Epoch: 2 [16000/60000 (27%)]\tLoss: 0.420139\n",
      "Train Epoch: 2 [16640/60000 (28%)]\tLoss: 0.281782\n",
      "Train Epoch: 2 [17280/60000 (29%)]\tLoss: 0.407469\n",
      "Train Epoch: 2 [17920/60000 (30%)]\tLoss: 0.367416\n",
      "Train Epoch: 2 [18560/60000 (31%)]\tLoss: 0.363118\n",
      "Train Epoch: 2 [19200/60000 (32%)]\tLoss: 0.342940\n",
      "Train Epoch: 2 [19840/60000 (33%)]\tLoss: 0.420548\n",
      "Train Epoch: 2 [20480/60000 (34%)]\tLoss: 0.272387\n",
      "Train Epoch: 2 [21120/60000 (35%)]\tLoss: 0.315999\n",
      "Train Epoch: 2 [21760/60000 (36%)]\tLoss: 0.256880\n",
      "Train Epoch: 2 [22400/60000 (37%)]\tLoss: 0.483550\n",
      "Train Epoch: 2 [23040/60000 (38%)]\tLoss: 0.273924\n",
      "Train Epoch: 2 [23680/60000 (39%)]\tLoss: 0.331398\n",
      "Train Epoch: 2 [24320/60000 (41%)]\tLoss: 0.277213\n",
      "Train Epoch: 2 [24960/60000 (42%)]\tLoss: 0.522716\n",
      "Train Epoch: 2 [25600/60000 (43%)]\tLoss: 0.531744\n",
      "Train Epoch: 2 [26240/60000 (44%)]\tLoss: 0.384578\n",
      "Train Epoch: 2 [26880/60000 (45%)]\tLoss: 0.374405\n",
      "Train Epoch: 2 [27520/60000 (46%)]\tLoss: 0.432283\n",
      "Train Epoch: 2 [28160/60000 (47%)]\tLoss: 0.174577\n",
      "Train Epoch: 2 [28800/60000 (48%)]\tLoss: 0.308960\n",
      "Train Epoch: 2 [29440/60000 (49%)]\tLoss: 0.316091\n",
      "Train Epoch: 2 [30080/60000 (50%)]\tLoss: 0.237043\n",
      "Train Epoch: 2 [30720/60000 (51%)]\tLoss: 0.406037\n",
      "Train Epoch: 2 [31360/60000 (52%)]\tLoss: 0.210117\n",
      "Train Epoch: 2 [32000/60000 (53%)]\tLoss: 0.340810\n",
      "Train Epoch: 2 [32640/60000 (54%)]\tLoss: 0.154198\n",
      "Train Epoch: 2 [33280/60000 (55%)]\tLoss: 0.233849\n",
      "Train Epoch: 2 [33920/60000 (57%)]\tLoss: 0.340740\n",
      "Train Epoch: 2 [34560/60000 (58%)]\tLoss: 0.176682\n",
      "Train Epoch: 2 [35200/60000 (59%)]\tLoss: 0.388323\n",
      "Train Epoch: 2 [35840/60000 (60%)]\tLoss: 0.375962\n",
      "Train Epoch: 2 [36480/60000 (61%)]\tLoss: 0.290654\n",
      "Train Epoch: 2 [37120/60000 (62%)]\tLoss: 0.362934\n",
      "Train Epoch: 2 [37760/60000 (63%)]\tLoss: 0.347384\n",
      "Train Epoch: 2 [38400/60000 (64%)]\tLoss: 0.477113\n",
      "Train Epoch: 2 [39040/60000 (65%)]\tLoss: 0.161833\n",
      "Train Epoch: 2 [39680/60000 (66%)]\tLoss: 0.836462\n",
      "Train Epoch: 2 [40320/60000 (67%)]\tLoss: 0.420543\n",
      "Train Epoch: 2 [40960/60000 (68%)]\tLoss: 0.375486\n",
      "Train Epoch: 2 [41600/60000 (69%)]\tLoss: 0.294703\n",
      "Train Epoch: 2 [42240/60000 (70%)]\tLoss: 0.226256\n",
      "Train Epoch: 2 [42880/60000 (71%)]\tLoss: 0.260950\n",
      "Train Epoch: 2 [43520/60000 (72%)]\tLoss: 0.281716\n",
      "Train Epoch: 2 [44160/60000 (74%)]\tLoss: 0.410009\n",
      "Train Epoch: 2 [44800/60000 (75%)]\tLoss: 0.389574\n",
      "Train Epoch: 2 [45440/60000 (76%)]\tLoss: 0.346930\n",
      "Train Epoch: 2 [46080/60000 (77%)]\tLoss: 0.497034\n",
      "Train Epoch: 2 [46720/60000 (78%)]\tLoss: 0.359794\n",
      "Train Epoch: 2 [47360/60000 (79%)]\tLoss: 0.336856\n",
      "Train Epoch: 2 [48000/60000 (80%)]\tLoss: 0.293839\n",
      "Train Epoch: 2 [48640/60000 (81%)]\tLoss: 0.213617\n",
      "Train Epoch: 2 [49280/60000 (82%)]\tLoss: 0.246019\n",
      "Train Epoch: 2 [49920/60000 (83%)]\tLoss: 0.525886\n",
      "Train Epoch: 2 [50560/60000 (84%)]\tLoss: 0.314474\n",
      "Train Epoch: 2 [51200/60000 (85%)]\tLoss: 0.438853\n",
      "Train Epoch: 2 [51840/60000 (86%)]\tLoss: 0.481253\n",
      "Train Epoch: 2 [52480/60000 (87%)]\tLoss: 0.325134\n",
      "Train Epoch: 2 [53120/60000 (88%)]\tLoss: 0.396157\n",
      "Train Epoch: 2 [53760/60000 (90%)]\tLoss: 0.215307\n",
      "Train Epoch: 2 [54400/60000 (91%)]\tLoss: 0.212283\n",
      "Train Epoch: 2 [55040/60000 (92%)]\tLoss: 0.332480\n",
      "Train Epoch: 2 [55680/60000 (93%)]\tLoss: 0.264667\n",
      "Train Epoch: 2 [56320/60000 (94%)]\tLoss: 0.349495\n",
      "Train Epoch: 2 [56960/60000 (95%)]\tLoss: 0.337958\n",
      "Train Epoch: 2 [57600/60000 (96%)]\tLoss: 0.341668\n",
      "Train Epoch: 2 [58240/60000 (97%)]\tLoss: 0.305059\n",
      "Train Epoch: 2 [58880/60000 (98%)]\tLoss: 0.385595\n",
      "Train Epoch: 2 [59520/60000 (99%)]\tLoss: 0.390793\n",
      "\n",
      "Test set: Avg. loss: 0.1172, Accuracy: 9633/10000 (96%)\n",
      "\n",
      "Train Epoch: 3 [0/60000 (0%)]\tLoss: 0.515451\n",
      "Train Epoch: 3 [640/60000 (1%)]\tLoss: 0.549290\n",
      "Train Epoch: 3 [1280/60000 (2%)]\tLoss: 0.158463\n",
      "Train Epoch: 3 [1920/60000 (3%)]\tLoss: 0.228675\n",
      "Train Epoch: 3 [2560/60000 (4%)]\tLoss: 0.249589\n",
      "Train Epoch: 3 [3200/60000 (5%)]\tLoss: 0.240245\n",
      "Train Epoch: 3 [3840/60000 (6%)]\tLoss: 0.455864\n",
      "Train Epoch: 3 [4480/60000 (7%)]\tLoss: 0.260107\n",
      "Train Epoch: 3 [5120/60000 (9%)]\tLoss: 0.276227\n",
      "Train Epoch: 3 [5760/60000 (10%)]\tLoss: 0.300455\n",
      "Train Epoch: 3 [6400/60000 (11%)]\tLoss: 0.439761\n",
      "Train Epoch: 3 [7040/60000 (12%)]\tLoss: 0.372563\n",
      "Train Epoch: 3 [7680/60000 (13%)]\tLoss: 0.379627\n",
      "Train Epoch: 3 [8320/60000 (14%)]\tLoss: 0.318305\n",
      "Train Epoch: 3 [8960/60000 (15%)]\tLoss: 0.356345\n",
      "Train Epoch: 3 [9600/60000 (16%)]\tLoss: 0.265357\n",
      "Train Epoch: 3 [10240/60000 (17%)]\tLoss: 0.421030\n",
      "Train Epoch: 3 [10880/60000 (18%)]\tLoss: 0.219262\n",
      "Train Epoch: 3 [11520/60000 (19%)]\tLoss: 0.459530\n",
      "Train Epoch: 3 [12160/60000 (20%)]\tLoss: 0.237940\n",
      "Train Epoch: 3 [12800/60000 (21%)]\tLoss: 0.278907\n",
      "Train Epoch: 3 [13440/60000 (22%)]\tLoss: 0.518272\n",
      "Train Epoch: 3 [14080/60000 (23%)]\tLoss: 0.342850\n",
      "Train Epoch: 3 [14720/60000 (25%)]\tLoss: 0.238147\n",
      "Train Epoch: 3 [15360/60000 (26%)]\tLoss: 0.405414\n",
      "Train Epoch: 3 [16000/60000 (27%)]\tLoss: 0.479388\n",
      "Train Epoch: 3 [16640/60000 (28%)]\tLoss: 0.409897\n",
      "Train Epoch: 3 [17280/60000 (29%)]\tLoss: 0.321701\n",
      "Train Epoch: 3 [17920/60000 (30%)]\tLoss: 0.256489\n",
      "Train Epoch: 3 [18560/60000 (31%)]\tLoss: 0.448354\n",
      "Train Epoch: 3 [19200/60000 (32%)]\tLoss: 0.324583\n",
      "Train Epoch: 3 [19840/60000 (33%)]\tLoss: 0.267494\n",
      "Train Epoch: 3 [20480/60000 (34%)]\tLoss: 0.130254\n",
      "Train Epoch: 3 [21120/60000 (35%)]\tLoss: 0.708398\n",
      "Train Epoch: 3 [21760/60000 (36%)]\tLoss: 0.345883\n",
      "Train Epoch: 3 [22400/60000 (37%)]\tLoss: 0.250299\n",
      "Train Epoch: 3 [23040/60000 (38%)]\tLoss: 0.284921\n",
      "Train Epoch: 3 [23680/60000 (39%)]\tLoss: 0.570292\n",
      "Train Epoch: 3 [24320/60000 (41%)]\tLoss: 0.442464\n",
      "Train Epoch: 3 [24960/60000 (42%)]\tLoss: 0.309877\n",
      "Train Epoch: 3 [25600/60000 (43%)]\tLoss: 0.479205\n",
      "Train Epoch: 3 [26240/60000 (44%)]\tLoss: 0.241393\n",
      "Train Epoch: 3 [26880/60000 (45%)]\tLoss: 0.298596\n",
      "Train Epoch: 3 [27520/60000 (46%)]\tLoss: 0.136219\n",
      "Train Epoch: 3 [28160/60000 (47%)]\tLoss: 0.262527\n",
      "Train Epoch: 3 [28800/60000 (48%)]\tLoss: 0.255446\n",
      "Train Epoch: 3 [29440/60000 (49%)]\tLoss: 0.234662\n",
      "Train Epoch: 3 [30080/60000 (50%)]\tLoss: 0.323415\n",
      "Train Epoch: 3 [30720/60000 (51%)]\tLoss: 0.141872\n",
      "Train Epoch: 3 [31360/60000 (52%)]\tLoss: 0.360039\n",
      "Train Epoch: 3 [32000/60000 (53%)]\tLoss: 0.205385\n",
      "Train Epoch: 3 [32640/60000 (54%)]\tLoss: 0.350329\n",
      "Train Epoch: 3 [33280/60000 (55%)]\tLoss: 0.133380\n",
      "Train Epoch: 3 [33920/60000 (57%)]\tLoss: 0.203511\n",
      "Train Epoch: 3 [34560/60000 (58%)]\tLoss: 0.256806\n",
      "Train Epoch: 3 [35200/60000 (59%)]\tLoss: 0.309336\n",
      "Train Epoch: 3 [35840/60000 (60%)]\tLoss: 0.378064\n",
      "Train Epoch: 3 [36480/60000 (61%)]\tLoss: 0.140032\n",
      "Train Epoch: 3 [37120/60000 (62%)]\tLoss: 0.463851\n",
      "Train Epoch: 3 [37760/60000 (63%)]\tLoss: 0.342886\n",
      "Train Epoch: 3 [38400/60000 (64%)]\tLoss: 0.149865\n",
      "Train Epoch: 3 [39040/60000 (65%)]\tLoss: 0.371720\n",
      "Train Epoch: 3 [39680/60000 (66%)]\tLoss: 0.201819\n",
      "Train Epoch: 3 [40320/60000 (67%)]\tLoss: 0.247634\n",
      "Train Epoch: 3 [40960/60000 (68%)]\tLoss: 0.224938\n",
      "Train Epoch: 3 [41600/60000 (69%)]\tLoss: 0.238488\n",
      "Train Epoch: 3 [42240/60000 (70%)]\tLoss: 0.257197\n",
      "Train Epoch: 3 [42880/60000 (71%)]\tLoss: 0.235187\n",
      "Train Epoch: 3 [43520/60000 (72%)]\tLoss: 0.206989\n",
      "Train Epoch: 3 [44160/60000 (74%)]\tLoss: 0.197461\n",
      "Train Epoch: 3 [44800/60000 (75%)]\tLoss: 0.181913\n",
      "Train Epoch: 3 [45440/60000 (76%)]\tLoss: 0.155067\n",
      "Train Epoch: 3 [46080/60000 (77%)]\tLoss: 0.331963\n",
      "Train Epoch: 3 [46720/60000 (78%)]\tLoss: 0.404475\n",
      "Train Epoch: 3 [47360/60000 (79%)]\tLoss: 0.384009\n",
      "Train Epoch: 3 [48000/60000 (80%)]\tLoss: 0.314654\n",
      "Train Epoch: 3 [48640/60000 (81%)]\tLoss: 0.420769\n",
      "Train Epoch: 3 [49280/60000 (82%)]\tLoss: 0.199659\n",
      "Train Epoch: 3 [49920/60000 (83%)]\tLoss: 0.315320\n",
      "Train Epoch: 3 [50560/60000 (84%)]\tLoss: 0.189013\n",
      "Train Epoch: 3 [51200/60000 (85%)]\tLoss: 0.150615\n",
      "Train Epoch: 3 [51840/60000 (86%)]\tLoss: 0.151339\n",
      "Train Epoch: 3 [52480/60000 (87%)]\tLoss: 0.764951\n",
      "Train Epoch: 3 [53120/60000 (88%)]\tLoss: 0.601681\n",
      "Train Epoch: 3 [53760/60000 (90%)]\tLoss: 0.209757\n",
      "Train Epoch: 3 [54400/60000 (91%)]\tLoss: 0.416941\n",
      "Train Epoch: 3 [55040/60000 (92%)]\tLoss: 0.340007\n",
      "Train Epoch: 3 [55680/60000 (93%)]\tLoss: 0.321956\n",
      "Train Epoch: 3 [56320/60000 (94%)]\tLoss: 0.146896\n",
      "Train Epoch: 3 [56960/60000 (95%)]\tLoss: 0.502352\n",
      "Train Epoch: 3 [57600/60000 (96%)]\tLoss: 0.182363\n",
      "Train Epoch: 3 [58240/60000 (97%)]\tLoss: 0.185167\n",
      "Train Epoch: 3 [58880/60000 (98%)]\tLoss: 0.254306\n",
      "Train Epoch: 3 [59520/60000 (99%)]\tLoss: 0.129396\n",
      "\n",
      "Test set: Avg. loss: 0.0998, Accuracy: 9692/10000 (97%)\n",
      "\n"
     ]
    }
   ],
   "source": [
    "test()\n",
    "for epoch in range(1, n_epochs + 1):\n",
    "  train(epoch)\n",
    "  test()"
   ]
  },
  {
   "cell_type": "markdown",
   "id": "instant-company",
   "metadata": {},
   "source": [
    "## Evaluating the Model's Performance"
   ]
  },
  {
   "cell_type": "code",
   "execution_count": 34,
   "id": "familiar-birthday",
   "metadata": {},
   "outputs": [
    {
     "ename": "ValueError",
     "evalue": "x and y must be the same size",
     "output_type": "error",
     "traceback": [
      "\u001b[0;31m---------------------------------------------------------------------------\u001b[0m",
      "\u001b[0;31mValueError\u001b[0m                                Traceback (most recent call last)",
      "\u001b[0;32m<ipython-input-34-2ddd02f2bec4>\u001b[0m in \u001b[0;36m<module>\u001b[0;34m\u001b[0m\n\u001b[1;32m      1\u001b[0m \u001b[0mfig\u001b[0m \u001b[0;34m=\u001b[0m \u001b[0mplt\u001b[0m\u001b[0;34m.\u001b[0m\u001b[0mfigure\u001b[0m\u001b[0;34m(\u001b[0m\u001b[0;34m)\u001b[0m\u001b[0;34m\u001b[0m\u001b[0;34m\u001b[0m\u001b[0m\n\u001b[1;32m      2\u001b[0m \u001b[0mplt\u001b[0m\u001b[0;34m.\u001b[0m\u001b[0mplot\u001b[0m\u001b[0;34m(\u001b[0m\u001b[0mtrain_counter\u001b[0m\u001b[0;34m,\u001b[0m \u001b[0mtrain_losses\u001b[0m\u001b[0;34m,\u001b[0m \u001b[0mcolor\u001b[0m\u001b[0;34m=\u001b[0m\u001b[0;34m'blue'\u001b[0m\u001b[0;34m)\u001b[0m\u001b[0;34m\u001b[0m\u001b[0;34m\u001b[0m\u001b[0m\n\u001b[0;32m----> 3\u001b[0;31m \u001b[0mplt\u001b[0m\u001b[0;34m.\u001b[0m\u001b[0mscatter\u001b[0m\u001b[0;34m(\u001b[0m\u001b[0mtest_counter\u001b[0m\u001b[0;34m,\u001b[0m \u001b[0mtest_losses\u001b[0m\u001b[0;34m,\u001b[0m \u001b[0mcolor\u001b[0m\u001b[0;34m=\u001b[0m\u001b[0;34m'red'\u001b[0m\u001b[0;34m)\u001b[0m\u001b[0;34m\u001b[0m\u001b[0;34m\u001b[0m\u001b[0m\n\u001b[0m\u001b[1;32m      4\u001b[0m \u001b[0mplt\u001b[0m\u001b[0;34m.\u001b[0m\u001b[0mlegend\u001b[0m\u001b[0;34m(\u001b[0m\u001b[0;34m[\u001b[0m\u001b[0;34m'Train Loss'\u001b[0m\u001b[0;34m,\u001b[0m \u001b[0;34m'Test Loss'\u001b[0m\u001b[0;34m]\u001b[0m\u001b[0;34m,\u001b[0m \u001b[0mloc\u001b[0m\u001b[0;34m=\u001b[0m\u001b[0;34m'upper right'\u001b[0m\u001b[0;34m)\u001b[0m\u001b[0;34m\u001b[0m\u001b[0;34m\u001b[0m\u001b[0m\n\u001b[1;32m      5\u001b[0m \u001b[0mplt\u001b[0m\u001b[0;34m.\u001b[0m\u001b[0mxlabel\u001b[0m\u001b[0;34m(\u001b[0m\u001b[0;34m'number of training examples seen'\u001b[0m\u001b[0;34m)\u001b[0m\u001b[0;34m\u001b[0m\u001b[0;34m\u001b[0m\u001b[0m\n",
      "\u001b[0;32m/Library/Frameworks/Python.framework/Versions/3.9/lib/python3.9/site-packages/matplotlib/pyplot.py\u001b[0m in \u001b[0;36mscatter\u001b[0;34m(x, y, s, c, marker, cmap, norm, vmin, vmax, alpha, linewidths, verts, edgecolors, plotnonfinite, data, **kwargs)\u001b[0m\n\u001b[1;32m   2888\u001b[0m         \u001b[0mverts\u001b[0m\u001b[0;34m=\u001b[0m\u001b[0mcbook\u001b[0m\u001b[0;34m.\u001b[0m\u001b[0mdeprecation\u001b[0m\u001b[0;34m.\u001b[0m\u001b[0m_deprecated_parameter\u001b[0m\u001b[0;34m,\u001b[0m\u001b[0;34m\u001b[0m\u001b[0;34m\u001b[0m\u001b[0m\n\u001b[1;32m   2889\u001b[0m         edgecolors=None, *, plotnonfinite=False, data=None, **kwargs):\n\u001b[0;32m-> 2890\u001b[0;31m     __ret = gca().scatter(\n\u001b[0m\u001b[1;32m   2891\u001b[0m         \u001b[0mx\u001b[0m\u001b[0;34m,\u001b[0m \u001b[0my\u001b[0m\u001b[0;34m,\u001b[0m \u001b[0ms\u001b[0m\u001b[0;34m=\u001b[0m\u001b[0ms\u001b[0m\u001b[0;34m,\u001b[0m \u001b[0mc\u001b[0m\u001b[0;34m=\u001b[0m\u001b[0mc\u001b[0m\u001b[0;34m,\u001b[0m \u001b[0mmarker\u001b[0m\u001b[0;34m=\u001b[0m\u001b[0mmarker\u001b[0m\u001b[0;34m,\u001b[0m \u001b[0mcmap\u001b[0m\u001b[0;34m=\u001b[0m\u001b[0mcmap\u001b[0m\u001b[0;34m,\u001b[0m \u001b[0mnorm\u001b[0m\u001b[0;34m=\u001b[0m\u001b[0mnorm\u001b[0m\u001b[0;34m,\u001b[0m\u001b[0;34m\u001b[0m\u001b[0;34m\u001b[0m\u001b[0m\n\u001b[1;32m   2892\u001b[0m         \u001b[0mvmin\u001b[0m\u001b[0;34m=\u001b[0m\u001b[0mvmin\u001b[0m\u001b[0;34m,\u001b[0m \u001b[0mvmax\u001b[0m\u001b[0;34m=\u001b[0m\u001b[0mvmax\u001b[0m\u001b[0;34m,\u001b[0m \u001b[0malpha\u001b[0m\u001b[0;34m=\u001b[0m\u001b[0malpha\u001b[0m\u001b[0;34m,\u001b[0m \u001b[0mlinewidths\u001b[0m\u001b[0;34m=\u001b[0m\u001b[0mlinewidths\u001b[0m\u001b[0;34m,\u001b[0m\u001b[0;34m\u001b[0m\u001b[0;34m\u001b[0m\u001b[0m\n",
      "\u001b[0;32m/Library/Frameworks/Python.framework/Versions/3.9/lib/python3.9/site-packages/matplotlib/__init__.py\u001b[0m in \u001b[0;36minner\u001b[0;34m(ax, data, *args, **kwargs)\u001b[0m\n\u001b[1;32m   1445\u001b[0m     \u001b[0;32mdef\u001b[0m \u001b[0minner\u001b[0m\u001b[0;34m(\u001b[0m\u001b[0max\u001b[0m\u001b[0;34m,\u001b[0m \u001b[0;34m*\u001b[0m\u001b[0margs\u001b[0m\u001b[0;34m,\u001b[0m \u001b[0mdata\u001b[0m\u001b[0;34m=\u001b[0m\u001b[0;32mNone\u001b[0m\u001b[0;34m,\u001b[0m \u001b[0;34m**\u001b[0m\u001b[0mkwargs\u001b[0m\u001b[0;34m)\u001b[0m\u001b[0;34m:\u001b[0m\u001b[0;34m\u001b[0m\u001b[0;34m\u001b[0m\u001b[0m\n\u001b[1;32m   1446\u001b[0m         \u001b[0;32mif\u001b[0m \u001b[0mdata\u001b[0m \u001b[0;32mis\u001b[0m \u001b[0;32mNone\u001b[0m\u001b[0;34m:\u001b[0m\u001b[0;34m\u001b[0m\u001b[0;34m\u001b[0m\u001b[0m\n\u001b[0;32m-> 1447\u001b[0;31m             \u001b[0;32mreturn\u001b[0m \u001b[0mfunc\u001b[0m\u001b[0;34m(\u001b[0m\u001b[0max\u001b[0m\u001b[0;34m,\u001b[0m \u001b[0;34m*\u001b[0m\u001b[0mmap\u001b[0m\u001b[0;34m(\u001b[0m\u001b[0msanitize_sequence\u001b[0m\u001b[0;34m,\u001b[0m \u001b[0margs\u001b[0m\u001b[0;34m)\u001b[0m\u001b[0;34m,\u001b[0m \u001b[0;34m**\u001b[0m\u001b[0mkwargs\u001b[0m\u001b[0;34m)\u001b[0m\u001b[0;34m\u001b[0m\u001b[0;34m\u001b[0m\u001b[0m\n\u001b[0m\u001b[1;32m   1448\u001b[0m \u001b[0;34m\u001b[0m\u001b[0m\n\u001b[1;32m   1449\u001b[0m         \u001b[0mbound\u001b[0m \u001b[0;34m=\u001b[0m \u001b[0mnew_sig\u001b[0m\u001b[0;34m.\u001b[0m\u001b[0mbind\u001b[0m\u001b[0;34m(\u001b[0m\u001b[0max\u001b[0m\u001b[0;34m,\u001b[0m \u001b[0;34m*\u001b[0m\u001b[0margs\u001b[0m\u001b[0;34m,\u001b[0m \u001b[0;34m**\u001b[0m\u001b[0mkwargs\u001b[0m\u001b[0;34m)\u001b[0m\u001b[0;34m\u001b[0m\u001b[0;34m\u001b[0m\u001b[0m\n",
      "\u001b[0;32m/Library/Frameworks/Python.framework/Versions/3.9/lib/python3.9/site-packages/matplotlib/cbook/deprecation.py\u001b[0m in \u001b[0;36mwrapper\u001b[0;34m(*inner_args, **inner_kwargs)\u001b[0m\n\u001b[1;32m    409\u001b[0m                          \u001b[0;32melse\u001b[0m \u001b[0mdeprecation_addendum\u001b[0m\u001b[0;34m,\u001b[0m\u001b[0;34m\u001b[0m\u001b[0;34m\u001b[0m\u001b[0m\n\u001b[1;32m    410\u001b[0m                 **kwargs)\n\u001b[0;32m--> 411\u001b[0;31m         \u001b[0;32mreturn\u001b[0m \u001b[0mfunc\u001b[0m\u001b[0;34m(\u001b[0m\u001b[0;34m*\u001b[0m\u001b[0minner_args\u001b[0m\u001b[0;34m,\u001b[0m \u001b[0;34m**\u001b[0m\u001b[0minner_kwargs\u001b[0m\u001b[0;34m)\u001b[0m\u001b[0;34m\u001b[0m\u001b[0;34m\u001b[0m\u001b[0m\n\u001b[0m\u001b[1;32m    412\u001b[0m \u001b[0;34m\u001b[0m\u001b[0m\n\u001b[1;32m    413\u001b[0m     \u001b[0;32mreturn\u001b[0m \u001b[0mwrapper\u001b[0m\u001b[0;34m\u001b[0m\u001b[0;34m\u001b[0m\u001b[0m\n",
      "\u001b[0;32m/Library/Frameworks/Python.framework/Versions/3.9/lib/python3.9/site-packages/matplotlib/axes/_axes.py\u001b[0m in \u001b[0;36mscatter\u001b[0;34m(self, x, y, s, c, marker, cmap, norm, vmin, vmax, alpha, linewidths, verts, edgecolors, plotnonfinite, **kwargs)\u001b[0m\n\u001b[1;32m   4439\u001b[0m         \u001b[0my\u001b[0m \u001b[0;34m=\u001b[0m \u001b[0mnp\u001b[0m\u001b[0;34m.\u001b[0m\u001b[0mma\u001b[0m\u001b[0;34m.\u001b[0m\u001b[0mravel\u001b[0m\u001b[0;34m(\u001b[0m\u001b[0my\u001b[0m\u001b[0;34m)\u001b[0m\u001b[0;34m\u001b[0m\u001b[0;34m\u001b[0m\u001b[0m\n\u001b[1;32m   4440\u001b[0m         \u001b[0;32mif\u001b[0m \u001b[0mx\u001b[0m\u001b[0;34m.\u001b[0m\u001b[0msize\u001b[0m \u001b[0;34m!=\u001b[0m \u001b[0my\u001b[0m\u001b[0;34m.\u001b[0m\u001b[0msize\u001b[0m\u001b[0;34m:\u001b[0m\u001b[0;34m\u001b[0m\u001b[0;34m\u001b[0m\u001b[0m\n\u001b[0;32m-> 4441\u001b[0;31m             \u001b[0;32mraise\u001b[0m \u001b[0mValueError\u001b[0m\u001b[0;34m(\u001b[0m\u001b[0;34m\"x and y must be the same size\"\u001b[0m\u001b[0;34m)\u001b[0m\u001b[0;34m\u001b[0m\u001b[0;34m\u001b[0m\u001b[0m\n\u001b[0m\u001b[1;32m   4442\u001b[0m \u001b[0;34m\u001b[0m\u001b[0m\n\u001b[1;32m   4443\u001b[0m         \u001b[0;32mif\u001b[0m \u001b[0ms\u001b[0m \u001b[0;32mis\u001b[0m \u001b[0;32mNone\u001b[0m\u001b[0;34m:\u001b[0m\u001b[0;34m\u001b[0m\u001b[0;34m\u001b[0m\u001b[0m\n",
      "\u001b[0;31mValueError\u001b[0m: x and y must be the same size"
     ]
    },
    {
     "data": {
      "image/png": "[encoded data removed]",
      "text/plain": [
       "<Figure size 432x288 with 1 Axes>"
      ]
     },
     "metadata": {
      "needs_background": "light"
     },
     "output_type": "display_data"
    }
   ],
   "source": [
    "fig = plt.figure()\n",
    "plt.plot(train_counter, train_losses, color='blue')\n",
    "plt.scatter(test_counter, test_losses, color='red')\n",
    "plt.legend(['Train Loss', 'Test Loss'], loc='upper right')\n",
    "plt.xlabel('number of training examples seen')\n",
    "plt.ylabel('negative log likelihood loss')\n",
    "fig"
   ]
  },
  {
   "cell_type": "code",
   "execution_count": null,
   "id": "underlying-astrology",
   "metadata": {},
   "outputs": [],
   "source": []
  }
 ],
 "metadata": {
  "kernelspec": {
   "display_name": "Python 3",
   "language": "python",
   "name": "python3"
  },
  "language_info": {
   "codemirror_mode": {
    "name": "ipython",
    "version": 3
   },
   "file_extension": ".py",
   "mimetype": "text/x-python",
   "name": "python",
   "nbconvert_exporter": "python",
   "pygments_lexer": "ipython3",
   "version": "3.9.1"
  }
 },
 "nbformat": 4,
 "nbformat_minor": 5
}
